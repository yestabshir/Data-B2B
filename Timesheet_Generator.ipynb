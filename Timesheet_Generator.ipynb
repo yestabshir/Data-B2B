{
  "nbformat": 4,
  "nbformat_minor": 0,
  "metadata": {
    "colab": {
      "provenance": [],
      "authorship_tag": "ABX9TyMtg5mFYkqk1I2OVdYO7bLi",
      "include_colab_link": true
    },
    "kernelspec": {
      "name": "python3",
      "display_name": "Python 3"
    },
    "language_info": {
      "name": "python"
    }
  },
  "cells": [
    {
      "cell_type": "markdown",
      "metadata": {
        "id": "view-in-github",
        "colab_type": "text"
      },
      "source": [
        "<a href=\"https://colab.research.google.com/github/yestabshir/Data-B2B/blob/Dash_Tableau_Sales/Timesheet_Generator.ipynb\" target=\"_parent\"><img src=\"https://colab.research.google.com/assets/colab-badge.svg\" alt=\"Open In Colab\"/></a>"
      ]
    },
    {
      "cell_type": "code",
      "execution_count": 1,
      "metadata": {
        "colab": {
          "base_uri": "https://localhost:8080/"
        },
        "id": "b-CqACoS3YG3",
        "outputId": "9793edf7-30db-4f95-9555-aad377c665fb"
      },
      "outputs": [
        {
          "output_type": "stream",
          "name": "stdout",
          "text": [
            "Timesheet for John Doe\n",
            "Date: 2023-12-20\n",
            "Start Time: 09:00\n",
            "End Time: 17:00\n",
            "Description: Worked on project X\n",
            "--------------------\n",
            "Date: 2023-12-21\n",
            "Start Time: 09:30\n",
            "End Time: 16:00\n",
            "Description: Meeting with clients\n",
            "--------------------\n"
          ]
        }
      ],
      "source": [
        "import datetime\n",
        "\n",
        "class Timesheet:\n",
        "    def __init__(self, name):\n",
        "        self.name = name\n",
        "        self.entries = []\n",
        "\n",
        "    def add_entry(self, date, start_time, end_time, description):\n",
        "        entry = {\n",
        "            \"date\": date,\n",
        "            \"start_time\": start_time,\n",
        "            \"end_time\": end_time,\n",
        "            \"description\": description\n",
        "        }\n",
        "        self.entries.append(entry)\n",
        "\n",
        "    def display_timesheet(self):\n",
        "        print(f\"Timesheet for {self.name}\")\n",
        "        for entry in self.entries:\n",
        "            print(f\"Date: {entry['date']}\")\n",
        "            print(f\"Start Time: {entry['start_time']}\")\n",
        "            print(f\"End Time: {entry['end_time']}\")\n",
        "            print(f\"Description: {entry['description']}\")\n",
        "            print(\"-\" * 20)\n",
        "\n",
        "# Example usage\n",
        "timesheet = Timesheet(\"John Doe\")\n",
        "timesheet.add_entry(datetime.date(2023, 12, 20), \"09:00\", \"17:00\", \"Worked on project X\")\n",
        "timesheet.add_entry(datetime.date(2023, 12, 21), \"09:30\", \"16:00\", \"Meeting with clients\")\n",
        "timesheet.display_timesheet()"
      ]
    }
  ]
}