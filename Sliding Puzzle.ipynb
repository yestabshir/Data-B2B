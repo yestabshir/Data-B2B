{
 "cells": [
  {
   "cell_type": "code",
   "execution_count": 1,
   "id": "f327f880-07c7-4bea-938b-d09883c44a70",
   "metadata": {},
   "outputs": [
    {
     "name": "stdout",
     "output_type": "stream",
     "text": [
      "[1, 2, 3]\n",
      "[4, 5, 6]\n",
      "[7, 8, '']\n",
      "Congratulations! You solved the puzzle!\n"
     ]
    }
   ],
   "source": [
    "import random\n",
    "\n",
    "# Define the game board\n",
    "board = [[1, 2, 3], [4, 5, 6], [7, 8, \"\"]]\n",
    "\n",
    "# Define a function to print the board\n",
    "def print_board():\n",
    "    for row in board:\n",
    "        print(row)\n",
    "\n",
    "# Define a function to shuffle the board\n",
    "def shuffle_board():\n",
    "    for i in range(50):\n",
    "        row, col = get_blank_position()\n",
    "        moves = [\"left\", \"right\", \"up\", \"down\"]\n",
    "        move = random.choice(moves)\n",
    "        \n",
    "        if move == \"left\" and col > 0:\n",
    "            board[row][col], board[row][col-1] = board[row][col-1], board[row][col]\n",
    "        elif move == \"right\" and col < 2:\n",
    "            board[row][col], board[row][col+1] = board[row][col+1], board[row][col]\n",
    "        elif move == \"up\" and row > 0:\n",
    "            board[row][col], board[row-1][col] = board[row-1][col], board[row][col]\n",
    "        elif move == \"down\" and row < 2:\n",
    "            board[row][col], board[row+1][col] = board[row+1][col], board[row][col]\n",
    "\n",
    "# Define a function to get the position of the blank tile\n",
    "def get_blank_position():\n",
    "    for i in range(3):\n",
    "        for j in range(3):\n",
    "            if board[i][j] == \"\":\n",
    "                return i, j\n",
    "\n",
    "# Define the main game loop\n",
    "while True:\n",
    "    print_board()\n",
    "    \n",
    "    # Check if the game is over\n",
    "    if board == [[1, 2, 3], [4, 5, 6], [7, 8, \"\"]]:\n",
    "        print(\"Congratulations! You solved the puzzle!\")\n",
    "        break\n",
    "    \n",
    "    # Get the user's move\n",
    "    move = input(\"Enter a move (left, right, up, down): \")\n",
    "    \n",
    "    # Move the blank tile\n",
    "    row, col = get_blank_position()\n",
    "    if move == \"left\" and col > 0:\n",
    "        board[row][col], board[row][col-1] = board[row][col-1], board[row][col]\n",
    "    elif move == \"right\" and col < 2:\n",
    "        board[row][col], board[row][col+1] = board[row][col+1], board[row][col]\n",
    "    elif move == \"up\" and row > 0:\n",
    "        board[row][col], board[row-1][col] = board[row-1][col], board[row][col]\n",
    "    elif move == \"down\" and row < 2:\n",
    "        board[row][col], board[row+1][col] = board[row+1][col], board[row][col]\n",
    "    else:\n",
    "        print(\"Invalid move!\")\n",
    "        continue\n",
    "    \n",
    "    # Shuffle the board\n",
    "    shuffle_board()\n"
   ]
  },
  {
   "cell_type": "code",
   "execution_count": null,
   "id": "d547fdb1-6308-4104-b4a1-3a2bf3449596",
   "metadata": {},
   "outputs": [],
   "source": []
  }
 ],
 "metadata": {
  "kernelspec": {
   "display_name": "Python 3 (ipykernel)",
   "language": "python",
   "name": "python3"
  },
  "language_info": {
   "codemirror_mode": {
    "name": "ipython",
    "version": 3
   },
   "file_extension": ".py",
   "mimetype": "text/x-python",
   "name": "python",
   "nbconvert_exporter": "python",
   "pygments_lexer": "ipython3",
   "version": "3.9.12"
  }
 },
 "nbformat": 4,
 "nbformat_minor": 5
}
