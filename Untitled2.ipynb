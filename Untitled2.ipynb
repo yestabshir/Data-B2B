{
  "cells": [
    {
      "cell_type": "markdown",
      "metadata": {
        "id": "view-in-github",
        "colab_type": "text"
      },
      "source": [
        "<a href=\"https://colab.research.google.com/github/yestabshir/Data-B2B/blob/Projects/Untitled2.ipynb\" target=\"_parent\"><img src=\"https://colab.research.google.com/assets/colab-badge.svg\" alt=\"Open In Colab\"/></a>"
      ]
    },
    {
      "cell_type": "code",
      "execution_count": null,
      "metadata": {
        "colab": {
          "background_save": true,
          "base_uri": "https://localhost:8080/"
        },
        "id": "ZEkyTHOSfB4f",
        "outputId": "54152c6f-f96b-46d9-91e7-2cbbdfd91d85"
      },
      "outputs": [
        {
          "metadata": {
            "tags": null
          },
          "name": "stdout",
          "output_type": "stream",
          "text": [
            "Welcome to the Rock-Paper-Scissors game!\n",
            "The rules are simple:\n",
            "Rock beats scissors, scissors beat paper, and paper beats rock.\n",
            "Paper beats rock! You lose!\n",
            "Paper beats rock! You win!\n"
          ]
        }
      ],
      "source": [
        "import random\n",
        "\n",
        "def play_game():\n",
        "    print(\"Welcome to the Rock-Paper-Scissors game!\")\n",
        "    print(\"The rules are simple:\")\n",
        "    print(\"Rock beats scissors, scissors beat paper, and paper beats rock.\")\n",
        "    \n",
        "    options = [\"rock\", \"paper\", \"scissors\"]\n",
        "    \n",
        "    while True:\n",
        "        user_choice = input(\"Please choose either rock, paper, or scissors: \").lower()\n",
        "        computer_choice = random.choice(options)\n",
        "        \n",
        "        if user_choice == computer_choice:\n",
        "            print(f\"Both you and the computer chose {user_choice}. It's a tie!\")\n",
        "        elif user_choice == \"rock\":\n",
        "            if computer_choice == \"scissors\":\n",
        "                print(\"Rock beats scissors! You win!\")\n",
        "            else:\n",
        "                print(\"Paper beats rock! You lose!\")\n",
        "        elif user_choice == \"paper\":\n",
        "            if computer_choice == \"rock\":\n",
        "                print(\"Paper beats rock! You win!\")\n",
        "            else:\n",
        "                print(\"Scissors beats paper! You lose!\")\n",
        "        elif user_choice == \"scissors\":\n",
        "            if computer_choice == \"paper\":\n",
        "                print(\"Scissors beats paper! You win!\")\n",
        "            else:\n",
        "                print(\"Rock beats scissors! You lose!\")\n",
        "        \n",
        "        play_again = input(\"Would you like to play again? (y/n): \")\n",
        "        if play_again.lower() == \"n\":\n",
        "            print(\"Thanks for playing!\")\n",
        "            break\n",
        "            \n",
        "play_game()\n",
        " "
      ]
    }
  ],
  "metadata": {
    "colab": {
      "provenance": [],
      "authorship_tag": "ABX9TyNN2sxLWNptrIgG+Amo8ljm",
      "include_colab_link": true
    },
    "kernelspec": {
      "display_name": "Python 3",
      "name": "python3"
    },
    "language_info": {
      "name": "python"
    }
  },
  "nbformat": 4,
  "nbformat_minor": 0
}